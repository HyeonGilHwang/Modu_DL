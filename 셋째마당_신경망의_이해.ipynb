{
  "nbformat": 4,
  "nbformat_minor": 0,
  "metadata": {
    "colab": {
      "name": "셋째마당 신경망의 이해.ipynb",
      "provenance": [],
      "collapsed_sections": [],
      "toc_visible": true,
      "authorship_tag": "ABX9TyPcggY00gDEFfKtDPNlnrNA",
      "include_colab_link": true
    },
    "kernelspec": {
      "name": "python3",
      "display_name": "Python 3"
    },
    "language_info": {
      "name": "python"
    }
  },
  "cells": [
    {
      "cell_type": "markdown",
      "metadata": {
        "id": "view-in-github",
        "colab_type": "text"
      },
      "source": [
        "<a href=\"https://colab.research.google.com/github/HyeonGilHwang/Modu_DL/blob/main/%EC%85%8B%EC%A7%B8%EB%A7%88%EB%8B%B9_%EC%8B%A0%EA%B2%BD%EB%A7%9D%EC%9D%98_%EC%9D%B4%ED%95%B4.ipynb\" target=\"_parent\"><img src=\"https://colab.research.google.com/assets/colab-badge.svg\" alt=\"Open In Colab\"/></a>"
      ]
    },
    {
      "cell_type": "markdown",
      "metadata": {
        "id": "z0mi0eettmmf"
      },
      "source": [
        "# 6장 퍼셉트론\n",
        "- 뉴런과 뉴런이 서로 새로운 연결을 만들기도 하고 필요에 따라 위치를 바꾸는 것처럼, 여러 층의 퍼셉트론을 서로 연결시키고 복작하게 조합하여 주어진 입력 값에 대한 판단을 하게 하는 것이 바로 신경망의 기본 구조다.\n",
        "- 신경망을 이루는 가장 중요한 기본 단위는 퍼셉트론(perceptron)이다.\n",
        "- 퍼셉트론은 입력 값과 활성화 함수를 사용해 출력 값을 다음으로 넘기는 가장 작은 신경망 단위다."
      ]
    },
    {
      "cell_type": "markdown",
      "metadata": {
        "id": "eauch3FCvs1X"
      },
      "source": [
        "## 1 가중치, 가중합, 바이어스, 활성화 함수\n",
        "- 기울기 a나 y절편 b와 같은 용어를 퍼셉트론의 개념에 맞춰 표현하면 다음과 같다."
      ]
    },
    {
      "cell_type": "markdown",
      "metadata": {
        "id": "_cDxXKnqv70u"
      },
      "source": [
        "$$y = ax +b$$"
      ]
    },
    {
      "cell_type": "markdown",
      "metadata": {
        "id": "p7Hi5e8KCXPq"
      },
      "source": [
        "- $a$는 기울기, $b$는 $y$절편이다."
      ]
    },
    {
      "cell_type": "markdown",
      "metadata": {
        "id": "cSe_OtqBwOq9"
      },
      "source": [
        "$$\\rightarrow y = wx + b $$"
      ]
    },
    {
      "cell_type": "markdown",
      "metadata": {
        "id": "oBtP_KJlCgJQ"
      },
      "source": [
        "- $w$는 가중치, $b$는 바이어스다.\n",
        "- 입력값($x$)와 가중치($w$)의 곱을 모든 더한 다음 바이어스($b$)를 더한 값을 가중합이라 한다.\n",
        "- 가중합의 결과를 놓고 1 또는 0을 출력해서 다음으로 보낸다. 여기서 이를 판단하는 함수가 활성화 함수(activation function)라 한다.\n",
        "- p103 그림6-1 참고"
      ]
    },
    {
      "cell_type": "markdown",
      "metadata": {
        "id": "iu5pKk2Cw0El"
      },
      "source": [
        "\n",
        "\n",
        "1.   항목 추가\n",
        "2.   항목 추가\n",
        "\n"
      ]
    },
    {
      "cell_type": "markdown",
      "metadata": {
        "id": "sTpannsixop_"
      },
      "source": [
        "## 2 퍼셉트론의 과제\n",
        "- 퍼셉트론 역시 선을 긋는 작업이라 할 수 있다.\n",
        "- 선을 아무리 그어도 해결되지 않는 상황이 있다.\n",
        "- p105 그림6-3 참고"
      ]
    },
    {
      "cell_type": "markdown",
      "metadata": {
        "id": "TSZPikwvyGVd"
      },
      "source": [
        "## 3 XOR 문제\n",
        "- 위 한계를 설명할 때 XOR(exclusive OR) 문제라 한다.\n",
        "- XOR 문제는 논리 회로에 등장하는 개념이다.\n",
        "- 컴퓨터는 두 가지의 디지털 값, 즉 0과 1을 입력해 하나의 값을 출력하는 회로가 모여 만들어지는데, 이 회로를 '게이트(gate)'라고 한다.\n",
        "- AND 게이트는 x1과 x2 둘 다 1일 때 결괏값이 1로 출력된다.\n",
        "- OR 게이트는 둘 중 하나라도 1이면 결괏값이 1로 출력된다.\n",
        "- XOR 게이트는 둘 중 하나만 1일 때 1이 출력된다.\n",
        "- p106 표6-1 참고"
      ]
    },
    {
      "cell_type": "markdown",
      "metadata": {
        "id": "QvGuLvTfzOVl"
      },
      "source": [
        "# 7장 다층 퍼셉트론\n",
        "- 좌표 평면 자체에 변화를 주어 한 번에 계산할 수 있어야한다. 이를 가능하게 하려면 은닉층(hidden layer)를 만들면 된다.\n",
        "- 은닉층을 만들어 공간을 왜곡하면 두 영역을 가로지르는 선이 직선으로 바뀐다.\n",
        "- p107~108 참고"
      ]
    },
    {
      "cell_type": "markdown",
      "metadata": {
        "id": "EJ1LVbd40TdG"
      },
      "source": [
        "## 1 다층 퍼셉트론의 설계\n",
        "- 숨어있는 은닉층으로 퍼셉트론이 각각 자신의 가중치와 바이어스 값을 보내고, 이 은닉층에서 모인 값이 한 번 더 시그모이드 함수(기호로 $\\sigma$)를 이용해 최종 값으로 결과를 보낸다. \n",
        "- 은닉층에 모이는 중간 정거장을 노드(node)라고 하며, 여기서는 $n_1$, $n_2$로 표현하였다."
      ]
    },
    {
      "cell_type": "markdown",
      "metadata": {
        "id": "PrByKsv31Ipk"
      },
      "source": [
        "$$n_1 = \\sigma (x_1 w_{11} + x_2 w_{21} + b_1)$$"
      ]
    },
    {
      "cell_type": "markdown",
      "metadata": {
        "id": "jETADEkB1Xr3"
      },
      "source": [
        "$$n_2 = \\sigma (x_1 w_{12} + x_2 w_{22} + b_2)$$"
      ]
    },
    {
      "cell_type": "markdown",
      "metadata": {
        "id": "GThzde7D1gT9"
      },
      "source": [
        "- 이 결괏값이 출력층에 보내진다."
      ]
    },
    {
      "cell_type": "markdown",
      "metadata": {
        "id": "fvMPLIXD1nzf"
      },
      "source": [
        "$$y_{out} = \\sigma (n_1 w_{31} + n_2 w_{32} + b_3)$$"
      ]
    },
    {
      "cell_type": "markdown",
      "metadata": {
        "id": "cKEtchRU13uf"
      },
      "source": [
        "- 2차원 배열로 가중치와 바이어스를 표시할 수 있다."
      ]
    },
    {
      "cell_type": "markdown",
      "metadata": {
        "id": "GRwEVO9p180u"
      },
      "source": [
        "$$W(1) = \n",
        "\\begin{pmatrix}  \n",
        "w_{11} & w_{12} \\\\\n",
        "w_{21} & w_{22} \\\\\n",
        "\\end{pmatrix}\\;\\;\\;B(1) = \n",
        "\\begin{pmatrix}\n",
        "b_1 \\\\\n",
        "b_2  \n",
        "\\end{pmatrix}\n",
        "$$ "
      ]
    },
    {
      "cell_type": "markdown",
      "metadata": {
        "id": "_JhLeSZn29kC"
      },
      "source": [
        "$$W(2) = \n",
        "\\begin{pmatrix}  \n",
        "w_{31}  \\\\\n",
        "w_{32} \\\\\n",
        "\\end{pmatrix}\\;\\;\\;B(2) = \n",
        "\\begin{pmatrix}\n",
        "b_3 \n",
        "\\end{pmatrix}\n",
        "$$ "
      ]
    },
    {
      "cell_type": "markdown",
      "metadata": {
        "id": "F9nAhna_3Jup"
      },
      "source": [
        "## 2 XOR 문제의 해결\n",
        "- 다음과 같이 각 변숫값을 정하고 이를 이용해 XOR 문제를 해결해보자"
      ]
    },
    {
      "cell_type": "markdown",
      "metadata": {
        "id": "8NTq6w_V3fmR"
      },
      "source": [
        "$$W(1) = \n",
        "\\begin{pmatrix}  \n",
        "-2 & 2 \\\\\n",
        "-2 & 2 \\\\\n",
        "\\end{pmatrix}\\;\\;\\;B(1) = \n",
        "\\begin{pmatrix}\n",
        "3 \\\\\n",
        "-1  \n",
        "\\end{pmatrix}\n",
        "$$ "
      ]
    },
    {
      "cell_type": "markdown",
      "metadata": {
        "id": "EjfnAOop3uHQ"
      },
      "source": [
        "$$W(2) = \n",
        "\\begin{pmatrix}  \n",
        "1  \\\\\n",
        "1 \\\\\n",
        "\\end{pmatrix}\\;\\;\\;B(2) = \n",
        "\\begin{pmatrix}\n",
        "-1 \n",
        "\\end{pmatrix}\n",
        "$$ "
      ]
    },
    {
      "cell_type": "markdown",
      "metadata": {
        "id": "ytPsHgzO4TgH"
      },
      "source": [
        "|$x_1$|$x_2$|$n_1$|$n_2$|$y_{out}$|우리가 원하는 값|\n",
        "|:----:|:----:|:----:|:----:|:----:|:----:|\n",
        "|0|0|$\\sigma$(0$*$(-2)+0$*$(-2)+3) = 1|$\\sigma$(0$*$2 + 0$*$2 -1) = 0|$\\sigma$(1$*$1 + 0$*$1 -1) = 0|0|\n",
        "|0|1|$\\sigma$(0$*$(-2)+1$*$(-2)+3) = 1|$\\sigma$(0$*$2+1$*$2 -1) = 1|$\\sigma$(1$*$1 + 1$*$1 -1) = 1|1|\n",
        "|1|0|$\\sigma$(1$*$(-2)+0$*$(-2)+3) = 1|$\\sigma$(1$*$2+0$*$2 -1) = 1|$\\sigma$(1$*$1 + 1$*$1 -1) = 1|1|\n",
        "|1|1|$\\sigma$(1$*$(-2)+1$*$(-2)+3) = 0|$\\sigma$(1$*$2+1$*$2 -1) = 1|$\\sigma$(0$*$1 + 1$*$1 -1) = 0|0|"
      ]
    },
    {
      "cell_type": "markdown",
      "metadata": {
        "id": "EKGKTorv8Mnu"
      },
      "source": [
        "## 3 코딩으로 XOR 문제 해결하기\n"
      ]
    },
    {
      "cell_type": "code",
      "metadata": {
        "id": "2rBy3i36s1s7"
      },
      "source": [
        "import numpy as np\n",
        "\n",
        "w11 = np.array([-2, -2])\n",
        "w12 = np.array([2, 2])\n",
        "w2 = np.array([1, 1])\n",
        "b1 = 3\n",
        "b2 = -1\n",
        "b3 = -1"
      ],
      "execution_count": 27,
      "outputs": []
    },
    {
      "cell_type": "code",
      "metadata": {
        "id": "HvHsbMi38yxM"
      },
      "source": [
        "# 퍼셉트론 함수\n",
        "def MLP(x, w, b):\n",
        "  y = np.sum(w*x) + b\n",
        "  if y <= 0:\n",
        "    return 0\n",
        "  else:\n",
        "    return 1"
      ],
      "execution_count": 28,
      "outputs": []
    },
    {
      "cell_type": "code",
      "metadata": {
        "id": "AhQfqL0b9ByY"
      },
      "source": [
        "# NAND 게이트 \n",
        "# n1 구할때\n",
        "def NAND(x1, x2):\n",
        "  return MLP(np.array([x1, x2]), w11, b1)\n",
        "\n",
        "# OR 게이트\n",
        "# n2 구할때\n",
        "def OR(x1, x2):\n",
        "  return MLP(np.array([x1, x2]), w12, b2)\n",
        "\n",
        "# AND 게이트\n",
        "# y_out 구할때\n",
        "def AND(x1, x2):\n",
        "  return MLP(np.array([x1, x2]), w2, b3)\n",
        "\n",
        "# XOR 게이트\n",
        "def XOR(x1, x2):\n",
        "  return AND(NAND(x1, x2), OR(x1, x2))"
      ],
      "execution_count": 29,
      "outputs": []
    },
    {
      "cell_type": "code",
      "metadata": {
        "colab": {
          "base_uri": "https://localhost:8080/"
        },
        "id": "_pml218D-PHC",
        "outputId": "9d6c642d-c247-4348-9248-6f85f1985aec"
      },
      "source": [
        "if __name__ == '__main__':\n",
        "    for x in [(0, 0), (1, 0), (0, 1), (1, 1)]:\n",
        "        y = XOR(x[0], x[1])\n",
        "        print(\"입력 값: \" + str(x) + \" 출력 값: \" + str(y))"
      ],
      "execution_count": 30,
      "outputs": [
        {
          "output_type": "stream",
          "text": [
            "입력 값: (0, 0) 출력 값: 0\n",
            "입력 값: (1, 0) 출력 값: 1\n",
            "입력 값: (0, 1) 출력 값: 1\n",
            "입력 값: (1, 1) 출력 값: 0\n"
          ],
          "name": "stdout"
        }
      ]
    }
  ]
}