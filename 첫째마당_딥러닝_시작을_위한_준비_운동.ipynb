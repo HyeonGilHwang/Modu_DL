{
  "nbformat": 4,
  "nbformat_minor": 0,
  "metadata": {
    "colab": {
      "name": "첫째마당 딥러닝 시작을 위한 준비 운동.ipynb",
      "provenance": [],
      "collapsed_sections": [],
      "toc_visible": true,
      "mount_file_id": "1UWOhiA4TPRlDx80N1bbSZ-Ah12jd864s",
      "authorship_tag": "ABX9TyMiNcs+eO97iHivLvtFZFqg",
      "include_colab_link": true
    },
    "kernelspec": {
      "name": "python3",
      "display_name": "Python 3"
    },
    "language_info": {
      "name": "python"
    }
  },
  "cells": [
    {
      "cell_type": "markdown",
      "metadata": {
        "id": "view-in-github",
        "colab_type": "text"
      },
      "source": [
        "<a href=\"https://colab.research.google.com/github/HyeonGilHwang/Modu_DL/blob/main/%EC%B2%AB%EC%A7%B8%EB%A7%88%EB%8B%B9_%EB%94%A5%EB%9F%AC%EB%8B%9D_%EC%8B%9C%EC%9E%91%EC%9D%84_%EC%9C%84%ED%95%9C_%EC%A4%80%EB%B9%84_%EC%9A%B4%EB%8F%99.ipynb\" target=\"_parent\"><img src=\"https://colab.research.google.com/assets/colab-badge.svg\" alt=\"Open In Colab\"/></a>"
      ]
    },
    {
      "cell_type": "markdown",
      "metadata": {
        "id": "eXjBS_KDcIx5"
      },
      "source": [
        "# 1장 나의 첫 딥러닝\n",
        "\n"
      ]
    },
    {
      "cell_type": "markdown",
      "metadata": {
        "id": "l4THMJZdcdqj"
      },
      "source": [
        "## 1 딥러닝 실행을 위한 준비 사항\n",
        "#### 데이터  \n",
        "- 정답이 있는 데이터를 이용해 정답을 맞추는 것을 '지도 학습'이라 한다.\n",
        "- 정답이 없는 데이터를 이용해 정답을 맞추는 것을 '비지도 학습'이라 한다.  \n",
        "\n",
        "#### 컴퓨터(CPU? GPU?)\n",
        "- 딥러닝을 일반 CPU 컴퓨터에서 동작시킬지 아니면 고속 그래픽 처리에 특화된 전용 프로세서인 GPU에서 동작시킬지 선객할 수 있다. 데이터의 용량이 클 경우에는 GPU 작업 환경이 좋다.\n",
        "\n",
        "#### 프로그램\n",
        "- 딥러닝을 구동할 수 있게끔 프로그래밍을 해야한다."
      ]
    },
    {
      "cell_type": "markdown",
      "metadata": {
        "id": "KasEfp2WdgT4"
      },
      "source": [
        "## 2 딥러닝 작업 환경 만들기\n",
        "- 하나는 자신의 컴퓨터에 필요한 프로그램을 설치해 사용하는 방법\n",
        "- 다른 하나는 구글 코랩(Google Colab)을 이용하는 방법"
      ]
    },
    {
      "cell_type": "markdown",
      "metadata": {
        "id": "xN5Ni37sePFm"
      },
      "source": [
        "## 3 미지의 일을 예측하는 원리\n",
        "- 머신러닝은 데이터 안에서 규칙을 발견하고 그 규칙을 새로운 데이터에 적용해서 새로운 결과를 도출하는 데 초점이 맞춰져 있다.\n",
        "- 머신런닝은 기존 데이터를 이용해 아직 일어나지 않은 미지의 일을 예측하기 위해 만들어진 기법이다.\n",
        "- 데이터가 입력되고 패턴이 분석되는 과정을 학습(training)이라고 한다."
      ]
    },
    {
      "cell_type": "markdown",
      "metadata": {
        "id": "xKAcZGSofVEC"
      },
      "source": [
        "## 4 폐암 수술 환자의 생존율 예측하기"
      ]
    },
    {
      "cell_type": "code",
      "metadata": {
        "id": "TDUIwSrGb0Z1"
      },
      "source": [
        "# 딥러닝을 구동하는데 필요한 케라스 함수 호출\n",
        "from tensorflow.keras.models import Sequential\n",
        "from tensorflow.keras.layers import Dense\n",
        "\n",
        "# 필요한 라이브러리 불러오기\n",
        "import numpy as np\n",
        "import tensorflow as tf\n",
        "\n",
        "# 실행할 때마다 같은 결과를 출력하기 위해 설정하는 부분\n",
        "np.random.seed(3)\n",
        "tf.random.set_seed(3)\n",
        "\n",
        "# 준비된 수술 환자 데이터를 불러오기\n",
        "Data_set = np.loadtxt('/content/drive/MyDrive/dataset/ThoraricSurgery.csv', delimiter = \",\")\n",
        "\n",
        "# 환자의 기록과 수술 결과를 X와 Y로 구분하여 저장\n",
        "X = Data_set[:, 0:17]\n",
        "Y = Data_set[:, 17]\n",
        "\n",
        "# 딥러닝 구조를 결정(모델을 설정하고 실행)\n",
        "model = Sequential()\n",
        "model.add(Dense(30, input_dim = 17, activation = 'relu'))\n",
        "model.add(Dense(1, activation = 'sigmoid'))\n",
        "\n",
        "# 딥러닝 실행\n",
        "model.compile(loss = 'binary_crossentropy', optimizer = 'adam', metrics = ['accuracy'])\n",
        "model.fit(X, Y, epochs = 100, batch_size=10)\n",
        "\n",
        "# 결과 창에서 눈여겨 보아야 할 값은 맨 아래 줄의 loss(손실 값)와 accuracy(정확도)다.\n",
        "# loss는 예측에서 빗나간 정도, accuracy는 예측이 성공할 확률이다."
      ],
      "execution_count": null,
      "outputs": []
    },
    {
      "cell_type": "markdown",
      "metadata": {
        "id": "dRWep6A5hWqY"
      },
      "source": [
        "## 5 딥러닝의 개괄 잡기\n",
        "- 첫 번째 부분: 데이터 분석과 입력\n",
        "  - 데이터를 불러와서 사용할 수 있게 만들어 주는 부분이다."
      ]
    },
    {
      "cell_type": "code",
      "metadata": {
        "id": "_l9DqIAkgmvW"
      },
      "source": [
        "# 필요한 라이브러리를 불러옴\n",
        "import numpy as np"
      ],
      "execution_count": null,
      "outputs": []
    },
    {
      "cell_type": "code",
      "metadata": {
        "id": "dYDGj120huwJ"
      },
      "source": [
        "# ThoraricSurgery.csv 라는 외부데이터 셋을 불러와 Data_set에 저장\n",
        "# 데이터는 총 18개 항목 470개로 구성\n",
        "# 1~17까지는 속성(attribute), 마지막 18번은 클래스(class)다.\n",
        "Data_set = np.loadtxt('/content/drive/MyDrive/dataset/ThoraricSurgery.csv', delimiter = \",\")"
      ],
      "execution_count": null,
      "outputs": []
    },
    {
      "cell_type": "code",
      "metadata": {
        "id": "lw8Tuwfrh5cw"
      },
      "source": [
        "# 입력과 정답을 나뉘어서 저장\n",
        "X = Data_set[:, 0:17]\n",
        "Y = Data_set[:, 17]"
      ],
      "execution_count": null,
      "outputs": []
    },
    {
      "cell_type": "markdown",
      "metadata": {
        "id": "lyMQax1hisnk"
      },
      "source": [
        "- 두 번째 부분: 딥러닝 실행\n",
        "  - 딥러닝을 실제로 실행하는 부분"
      ]
    },
    {
      "cell_type": "code",
      "metadata": {
        "id": "qR_7uO5Nii1A"
      },
      "source": [
        "# 케라스 라이브러리 중에서 Sequential()함수와 Dense()함수 불러오기\n",
        "from tensorflow.keras.models import Sequential\n",
        "from tensorflow.keras.layers import Dense"
      ],
      "execution_count": null,
      "outputs": []
    },
    {
      "cell_type": "code",
      "metadata": {
        "id": "UhcIvF5hjIrS"
      },
      "source": [
        "# Sequential()함수는 딥러닝의 구조를 한 층 한 층 쉽게 쌓아올릴 수 있게 한다.\n",
        "# model.add()를 통해 필요한 층을 차례로 추가\n",
        "# Dense()는 각 층이 제각각 어떤 특성을 가질지 옵션을 설정하는 역할을 한다.\n",
        "# activation은 다음 층으로 어떻게 값을 넘길지 결정하는 부분이다. 여기서는 가장 많이 사용되는 relu와 sigmoid 함수를 지정\n",
        "model = Sequential()\n",
        "model.add(Dense(30, input_dim=17, activation='relu'))\n",
        "model.add(Dense(1, activation = 'sigmoid'))"
      ],
      "execution_count": null,
      "outputs": []
    },
    {
      "cell_type": "code",
      "metadata": {
        "colab": {
          "base_uri": "https://localhost:8080/"
        },
        "id": "zFg3d-k_jqPT",
        "outputId": "073ca0d3-f6ae-4abc-b2e0-f05d3834b59a"
      },
      "source": [
        "# 딥러닝의 구조와 층별 옵션을 정하고 나면 compile()함수를 이용해 이를 실행\n",
        "# loss는 한 번 신경망이 실행될 때마다 오차 값을 추적하는 함수다.\n",
        "# optimizer는 오차를 어떻게 줄여 나갈지 정하는 함수다.\n",
        "model.compile(loss='mean_squared_error', optimizer='adam', metrics=['accuracy'])\n",
        "model.fit(X, Y, epochs = 100, batch_size=10)"
      ],
      "execution_count": null,
      "outputs": [
        {
          "output_type": "stream",
          "text": [
            "Epoch 1/100\n",
            "47/47 [==============================] - 0s 1ms/step - loss: 0.1495 - accuracy: 0.8468\n",
            "Epoch 2/100\n",
            "47/47 [==============================] - 0s 1ms/step - loss: 0.1487 - accuracy: 0.8511\n",
            "Epoch 3/100\n",
            "47/47 [==============================] - 0s 1ms/step - loss: 0.1490 - accuracy: 0.8489\n",
            "Epoch 4/100\n",
            "47/47 [==============================] - 0s 1ms/step - loss: 0.1489 - accuracy: 0.8511\n",
            "Epoch 5/100\n",
            "47/47 [==============================] - 0s 2ms/step - loss: 0.1489 - accuracy: 0.8511\n",
            "Epoch 6/100\n",
            "47/47 [==============================] - 0s 1ms/step - loss: 0.1489 - accuracy: 0.8511\n",
            "Epoch 7/100\n",
            "47/47 [==============================] - 0s 1ms/step - loss: 0.1488 - accuracy: 0.8511\n",
            "Epoch 8/100\n",
            "47/47 [==============================] - 0s 1ms/step - loss: 0.1485 - accuracy: 0.8511\n",
            "Epoch 9/100\n",
            "47/47 [==============================] - 0s 1ms/step - loss: 0.1469 - accuracy: 0.8511\n",
            "Epoch 10/100\n",
            "47/47 [==============================] - 0s 1ms/step - loss: 0.1462 - accuracy: 0.8532\n",
            "Epoch 11/100\n",
            "47/47 [==============================] - 0s 1ms/step - loss: 0.1452 - accuracy: 0.8532\n",
            "Epoch 12/100\n",
            "47/47 [==============================] - 0s 1ms/step - loss: 0.1450 - accuracy: 0.8489\n",
            "Epoch 13/100\n",
            "47/47 [==============================] - 0s 1ms/step - loss: 0.1460 - accuracy: 0.8532\n",
            "Epoch 14/100\n",
            "47/47 [==============================] - 0s 1ms/step - loss: 0.1464 - accuracy: 0.8489\n",
            "Epoch 15/100\n",
            "47/47 [==============================] - 0s 1ms/step - loss: 0.1470 - accuracy: 0.8489\n",
            "Epoch 16/100\n",
            "47/47 [==============================] - 0s 1ms/step - loss: 0.1486 - accuracy: 0.8511\n",
            "Epoch 17/100\n",
            "47/47 [==============================] - 0s 1ms/step - loss: 0.1484 - accuracy: 0.8511\n",
            "Epoch 18/100\n",
            "47/47 [==============================] - 0s 2ms/step - loss: 0.1463 - accuracy: 0.8511\n",
            "Epoch 19/100\n",
            "47/47 [==============================] - 0s 1ms/step - loss: 0.1454 - accuracy: 0.8489\n",
            "Epoch 20/100\n",
            "47/47 [==============================] - 0s 1ms/step - loss: 0.1459 - accuracy: 0.8532\n",
            "Epoch 21/100\n",
            "47/47 [==============================] - 0s 1ms/step - loss: 0.1437 - accuracy: 0.8511\n",
            "Epoch 22/100\n",
            "47/47 [==============================] - 0s 1ms/step - loss: 0.1479 - accuracy: 0.8511\n",
            "Epoch 23/100\n",
            "47/47 [==============================] - 0s 1ms/step - loss: 0.1438 - accuracy: 0.8511\n",
            "Epoch 24/100\n",
            "47/47 [==============================] - 0s 2ms/step - loss: 0.1455 - accuracy: 0.8489\n",
            "Epoch 25/100\n",
            "47/47 [==============================] - 0s 1ms/step - loss: 0.1443 - accuracy: 0.8489\n",
            "Epoch 26/100\n",
            "47/47 [==============================] - 0s 1ms/step - loss: 0.1423 - accuracy: 0.8553\n",
            "Epoch 27/100\n",
            "47/47 [==============================] - 0s 2ms/step - loss: 0.1414 - accuracy: 0.8553\n",
            "Epoch 28/100\n",
            "47/47 [==============================] - 0s 1ms/step - loss: 0.1449 - accuracy: 0.8532\n",
            "Epoch 29/100\n",
            "47/47 [==============================] - 0s 1ms/step - loss: 0.1398 - accuracy: 0.8511\n",
            "Epoch 30/100\n",
            "47/47 [==============================] - 0s 1ms/step - loss: 0.1457 - accuracy: 0.8511\n",
            "Epoch 31/100\n",
            "47/47 [==============================] - 0s 2ms/step - loss: 0.1434 - accuracy: 0.8532\n",
            "Epoch 32/100\n",
            "47/47 [==============================] - 0s 1ms/step - loss: 0.1439 - accuracy: 0.8511\n",
            "Epoch 33/100\n",
            "47/47 [==============================] - 0s 1ms/step - loss: 0.1407 - accuracy: 0.8489\n",
            "Epoch 34/100\n",
            "47/47 [==============================] - 0s 1ms/step - loss: 0.1425 - accuracy: 0.8532\n",
            "Epoch 35/100\n",
            "47/47 [==============================] - 0s 1ms/step - loss: 0.1421 - accuracy: 0.8511\n",
            "Epoch 36/100\n",
            "47/47 [==============================] - 0s 1ms/step - loss: 0.1469 - accuracy: 0.8511\n",
            "Epoch 37/100\n",
            "47/47 [==============================] - 0s 1ms/step - loss: 0.1400 - accuracy: 0.8574\n",
            "Epoch 38/100\n",
            "47/47 [==============================] - 0s 1ms/step - loss: 0.1430 - accuracy: 0.8511\n",
            "Epoch 39/100\n",
            "47/47 [==============================] - 0s 1ms/step - loss: 0.1372 - accuracy: 0.8553\n",
            "Epoch 40/100\n",
            "47/47 [==============================] - 0s 1ms/step - loss: 0.1344 - accuracy: 0.8532\n",
            "Epoch 41/100\n",
            "47/47 [==============================] - 0s 1ms/step - loss: 0.1450 - accuracy: 0.8468\n",
            "Epoch 42/100\n",
            "47/47 [==============================] - 0s 1ms/step - loss: 0.1403 - accuracy: 0.8532\n",
            "Epoch 43/100\n",
            "47/47 [==============================] - 0s 1ms/step - loss: 0.1408 - accuracy: 0.8511\n",
            "Epoch 44/100\n",
            "47/47 [==============================] - 0s 1ms/step - loss: 0.1385 - accuracy: 0.8532\n",
            "Epoch 45/100\n",
            "47/47 [==============================] - 0s 1ms/step - loss: 0.1358 - accuracy: 0.8596\n",
            "Epoch 46/100\n",
            "47/47 [==============================] - 0s 1ms/step - loss: 0.1340 - accuracy: 0.8574\n",
            "Epoch 47/100\n",
            "47/47 [==============================] - 0s 1ms/step - loss: 0.1435 - accuracy: 0.8489\n",
            "Epoch 48/100\n",
            "47/47 [==============================] - 0s 1ms/step - loss: 0.1367 - accuracy: 0.8532\n",
            "Epoch 49/100\n",
            "47/47 [==============================] - 0s 2ms/step - loss: 0.1440 - accuracy: 0.8426\n",
            "Epoch 50/100\n",
            "47/47 [==============================] - 0s 1ms/step - loss: 0.1486 - accuracy: 0.8511\n",
            "Epoch 51/100\n",
            "47/47 [==============================] - 0s 1ms/step - loss: 0.1485 - accuracy: 0.8511\n",
            "Epoch 52/100\n",
            "47/47 [==============================] - 0s 2ms/step - loss: 0.1479 - accuracy: 0.8511\n",
            "Epoch 53/100\n",
            "47/47 [==============================] - 0s 1ms/step - loss: 0.1427 - accuracy: 0.8532\n",
            "Epoch 54/100\n",
            "47/47 [==============================] - 0s 1ms/step - loss: 0.1397 - accuracy: 0.8553\n",
            "Epoch 55/100\n",
            "47/47 [==============================] - 0s 1ms/step - loss: 0.1386 - accuracy: 0.8574\n",
            "Epoch 56/100\n",
            "47/47 [==============================] - 0s 1ms/step - loss: 0.1359 - accuracy: 0.8532\n",
            "Epoch 57/100\n",
            "47/47 [==============================] - 0s 1ms/step - loss: 0.1368 - accuracy: 0.8489\n",
            "Epoch 58/100\n",
            "47/47 [==============================] - 0s 1ms/step - loss: 0.1420 - accuracy: 0.8404\n",
            "Epoch 59/100\n",
            "47/47 [==============================] - 0s 1ms/step - loss: 0.1419 - accuracy: 0.8511\n",
            "Epoch 60/100\n",
            "47/47 [==============================] - 0s 1ms/step - loss: 0.1336 - accuracy: 0.8532\n",
            "Epoch 61/100\n",
            "47/47 [==============================] - 0s 1ms/step - loss: 0.1376 - accuracy: 0.8511\n",
            "Epoch 62/100\n",
            "47/47 [==============================] - 0s 1ms/step - loss: 0.1329 - accuracy: 0.8617\n",
            "Epoch 63/100\n",
            "47/47 [==============================] - 0s 2ms/step - loss: 0.1409 - accuracy: 0.8511\n",
            "Epoch 64/100\n",
            "47/47 [==============================] - 0s 1ms/step - loss: 0.1419 - accuracy: 0.8532\n",
            "Epoch 65/100\n",
            "47/47 [==============================] - 0s 1ms/step - loss: 0.1397 - accuracy: 0.8532\n",
            "Epoch 66/100\n",
            "47/47 [==============================] - 0s 1ms/step - loss: 0.1350 - accuracy: 0.8596\n",
            "Epoch 67/100\n",
            "47/47 [==============================] - 0s 1ms/step - loss: 0.1364 - accuracy: 0.8532\n",
            "Epoch 68/100\n",
            "47/47 [==============================] - 0s 1ms/step - loss: 0.1465 - accuracy: 0.8511\n",
            "Epoch 69/100\n",
            "47/47 [==============================] - 0s 2ms/step - loss: 0.1405 - accuracy: 0.8574\n",
            "Epoch 70/100\n",
            "47/47 [==============================] - 0s 1ms/step - loss: 0.1390 - accuracy: 0.8532\n",
            "Epoch 71/100\n",
            "47/47 [==============================] - 0s 1ms/step - loss: 0.1369 - accuracy: 0.8553\n",
            "Epoch 72/100\n",
            "47/47 [==============================] - 0s 1ms/step - loss: 0.1295 - accuracy: 0.8574\n",
            "Epoch 73/100\n",
            "47/47 [==============================] - 0s 1ms/step - loss: 0.1348 - accuracy: 0.8532\n",
            "Epoch 74/100\n",
            "47/47 [==============================] - 0s 1ms/step - loss: 0.1297 - accuracy: 0.8596\n",
            "Epoch 75/100\n",
            "47/47 [==============================] - 0s 1ms/step - loss: 0.1446 - accuracy: 0.8468\n",
            "Epoch 76/100\n",
            "47/47 [==============================] - 0s 1ms/step - loss: 0.1326 - accuracy: 0.8617\n",
            "Epoch 77/100\n",
            "47/47 [==============================] - 0s 1ms/step - loss: 0.1348 - accuracy: 0.8553\n",
            "Epoch 78/100\n",
            "47/47 [==============================] - 0s 1ms/step - loss: 0.1360 - accuracy: 0.8489\n",
            "Epoch 79/100\n",
            "47/47 [==============================] - 0s 1ms/step - loss: 0.1353 - accuracy: 0.8532\n",
            "Epoch 80/100\n",
            "47/47 [==============================] - 0s 1ms/step - loss: 0.1345 - accuracy: 0.8596\n",
            "Epoch 81/100\n",
            "47/47 [==============================] - 0s 1ms/step - loss: 0.1371 - accuracy: 0.8511\n",
            "Epoch 82/100\n",
            "47/47 [==============================] - 0s 1ms/step - loss: 0.1356 - accuracy: 0.8468\n",
            "Epoch 83/100\n",
            "47/47 [==============================] - 0s 2ms/step - loss: 0.1337 - accuracy: 0.8511\n",
            "Epoch 84/100\n",
            "47/47 [==============================] - 0s 1ms/step - loss: 0.1425 - accuracy: 0.8489\n",
            "Epoch 85/100\n",
            "47/47 [==============================] - 0s 1ms/step - loss: 0.1348 - accuracy: 0.8596\n",
            "Epoch 86/100\n",
            "47/47 [==============================] - 0s 1ms/step - loss: 0.1425 - accuracy: 0.8468\n",
            "Epoch 87/100\n",
            "47/47 [==============================] - 0s 1ms/step - loss: 0.1483 - accuracy: 0.8511\n",
            "Epoch 88/100\n",
            "47/47 [==============================] - 0s 1ms/step - loss: 0.1475 - accuracy: 0.8511\n",
            "Epoch 89/100\n",
            "47/47 [==============================] - 0s 1ms/step - loss: 0.1378 - accuracy: 0.8574\n",
            "Epoch 90/100\n",
            "47/47 [==============================] - 0s 1ms/step - loss: 0.1328 - accuracy: 0.8553\n",
            "Epoch 91/100\n",
            "47/47 [==============================] - 0s 2ms/step - loss: 0.1285 - accuracy: 0.8574\n",
            "Epoch 92/100\n",
            "47/47 [==============================] - 0s 1ms/step - loss: 0.1270 - accuracy: 0.8660\n",
            "Epoch 93/100\n",
            "47/47 [==============================] - 0s 1ms/step - loss: 0.1386 - accuracy: 0.8532\n",
            "Epoch 94/100\n",
            "47/47 [==============================] - 0s 2ms/step - loss: 0.1397 - accuracy: 0.8532\n",
            "Epoch 95/100\n",
            "47/47 [==============================] - 0s 1ms/step - loss: 0.1356 - accuracy: 0.8617\n",
            "Epoch 96/100\n",
            "47/47 [==============================] - 0s 1ms/step - loss: 0.1333 - accuracy: 0.8532\n",
            "Epoch 97/100\n",
            "47/47 [==============================] - 0s 1ms/step - loss: 0.1293 - accuracy: 0.8553\n",
            "Epoch 98/100\n",
            "47/47 [==============================] - 0s 1ms/step - loss: 0.1282 - accuracy: 0.8596\n",
            "Epoch 99/100\n",
            "47/47 [==============================] - 0s 1ms/step - loss: 0.1379 - accuracy: 0.8468\n",
            "Epoch 100/100\n",
            "47/47 [==============================] - 0s 1ms/step - loss: 0.1301 - accuracy: 0.8638\n"
          ],
          "name": "stdout"
        },
        {
          "output_type": "execute_result",
          "data": {
            "text/plain": [
              "<tensorflow.python.keras.callbacks.History at 0x7f2df13f1e50>"
            ]
          },
          "metadata": {
            "tags": []
          },
          "execution_count": 12
        }
      ]
    },
    {
      "cell_type": "markdown",
      "metadata": {
        "id": "eEDGpz0Pk2AK"
      },
      "source": [
        "# 2장 딥러닝을 위한 기초 수학"
      ]
    },
    {
      "cell_type": "markdown",
      "metadata": {
        "id": "h3we10Qhk9Jp"
      },
      "source": [
        "## 1 일차 함수, 기울기와 y절편\n",
        "- 함수란 두 집합 사이의 관계를 설명하는 수학 개념이다.\n",
        "- 일차 함수는 y가 x에 관한 일차식으로 표현된 경우를 말한다.\n",
        "\n"
      ]
    },
    {
      "cell_type": "markdown",
      "metadata": {
        "id": "OmgA3-6h2EMm"
      },
      "source": [
        "$$y = ax + b (a\\neq0)$$\n"
      ]
    },
    {
      "cell_type": "markdown",
      "metadata": {
        "id": "wqjvSrTM2FYF"
      },
      "source": [
        "\n",
        "- p41 그림참고"
      ]
    },
    {
      "cell_type": "markdown",
      "metadata": {
        "id": "3yuq8jYAl9c5"
      },
      "source": [
        "## 2 이차 함수와 최솟값\n",
        "- 이차 함수란 y가 x에 관한 이차식으로 표현되는 경우를 말한다.\n",
        "- 포물선의 맨 아래에 위치한 지점이 최솟값이 되는데, 딥러닝을 실행할 때는 이 최솟값을 찾아내는 과정이 매우 중요하다.\n",
        "\n"
      ]
    },
    {
      "cell_type": "markdown",
      "metadata": {
        "id": "R1HsB-R615Lc"
      },
      "source": [
        "$$y =ax^{2}(a \\neq0) $$"
      ]
    },
    {
      "cell_type": "markdown",
      "metadata": {
        "id": "XnqKYaxGmjp8"
      },
      "source": [
        "## 3 미분, 순간 변화율과 기울기\n",
        "- 미분은 딥러닝을 이해하는 데 가장 중요한 수학 원리다.\n",
        "- x가 왼쪽이나 오른쪽으로 조금씩 이동했을 때, y 값 역시 매우 미세하게 변화하는데, 이 순간의 변화를 놓고 순간 변화율이라고 한다. 따라서, 미분을 한다는 것은 쉽게 말해 순간 변화율을 구한다는 것이다.\n",
        "- 순간변화율은 다음과 같다.\n",
        "\n",
        "\n"
      ]
    },
    {
      "cell_type": "markdown",
      "metadata": {
        "id": "0QaLu4BDzzLf"
      },
      "source": [
        "$$\\lim_{\\nabla x \\to \\infty}\\frac{f(a+\\nabla x)-f(a)}{\\nabla x} $$"
      ]
    },
    {
      "cell_type": "markdown",
      "metadata": {
        "id": "JX2sRgZMzxit"
      },
      "source": [
        "\n",
        "- 그래프와 맞닿은 접선을 기울기라고 한다.\n",
        "- 어느 순간에 어떤 변화가 일어나고 있는지를 숫자로 나타낸 것을 미분 계수라 한다.\n",
        "- a와 b를 지나는 직선의 기울기는 다음과 같다."
      ]
    },
    {
      "cell_type": "markdown",
      "metadata": {
        "id": "qBm3H9A30Zho"
      },
      "source": [
        "$$ \\;\\;\\;\\;\\; \\frac{f(b)-f(a)}{b-a} = \\frac{f(a+\\nabla x)-f(a)}{\\nabla x} $$"
      ]
    },
    {
      "cell_type": "markdown",
      "metadata": {
        "id": "jJgMnBz5zt-0"
      },
      "source": [
        "\n",
        "\n",
        "\n",
        "- 미분의 4가지 성질\n",
        "  - f(x) = a에서 a가 상수일 때 미문 값은 0이다.\n",
        "  - f(x) = x일때의 미분값은 1이다.\n",
        "  - f(x) = ax에서 a가 상수이면 미문 값은 a이다.\n",
        "  - f(x) = $x^{a}$에서 a가 자연수이면 미분 값은 $ax^{a-1}$이다.\n",
        "\n",
        "- p43~p45 그림 참고 "
      ]
    },
    {
      "cell_type": "markdown",
      "metadata": {
        "id": "n82UiXnFsY7S"
      },
      "source": [
        "## 4 편미분\n",
        "- 편미분은 모든 변수를 미분하는 것이 아니라 우리가 원하는 한 가지 변수만 미분하고 그 외에는 모두 상수로 취급한다.\n",
        "\n"
      ]
    },
    {
      "cell_type": "markdown",
      "metadata": {
        "id": "vjykCOQU1dV-"
      },
      "source": [
        "\n",
        "$$f(x,y) = x^{2}+xy + a$$"
      ]
    },
    {
      "cell_type": "markdown",
      "metadata": {
        "id": "iNQfOzoAzr0p"
      },
      "source": [
        "$$\\frac{\\partial f}{\\partial x}=2x +y$$"
      ]
    },
    {
      "cell_type": "markdown",
      "metadata": {
        "id": "rVbXRaPjtTDL"
      },
      "source": [
        "## 5 지수와 지수 함수\n",
        "- 지수란 다음과 같은 형태를 말한다.\n"
      ]
    },
    {
      "cell_type": "markdown",
      "metadata": {
        "id": "Es_BZ0PB1XAH"
      },
      "source": [
        "$$a^{x}$$\n"
      ]
    },
    {
      "cell_type": "markdown",
      "metadata": {
        "id": "jZqP-k_P1YJG"
      },
      "source": [
        "- 여기서 a를 '밑'이라 하고 x를 '지수'라고 부른다. a를 x만큼 반복해서 곱한다는 뜻이다.\n",
        "- 지수 함수는 다음과 같은 형태다.\n"
      ]
    },
    {
      "cell_type": "markdown",
      "metadata": {
        "id": "V33mTZWl1Zk7"
      },
      "source": [
        "$$y = a^{x}(a \\neq 1, a > 0)$$\n"
      ]
    },
    {
      "cell_type": "markdown",
      "metadata": {
        "id": "TFVTl8Ce1aVx"
      },
      "source": [
        "- p47 그림참고"
      ]
    },
    {
      "cell_type": "markdown",
      "metadata": {
        "id": "FLubX4kjuL-G"
      },
      "source": [
        "## 6 시그모이드 함수\n",
        "- 시그모이드 함수는 지수 함수에서 밑의 값이 자연 상수 e인 함수를 말한다.\n",
        "- 자연 상수 $e$가 지수 함수에 포함되어 분모에 들어가면 시그모이드 함수가 된다.\n"
      ]
    },
    {
      "cell_type": "markdown",
      "metadata": {
        "id": "-Uc9-NvQ1Ta3"
      },
      "source": [
        "$$f(x) = \\frac{1}{1+e^{-x}}$$\n"
      ]
    },
    {
      "cell_type": "markdown",
      "metadata": {
        "id": "zexOKuGS1UbX"
      },
      "source": [
        "- x가 큰 값을가지면 1에 가까워지고, 작은 값을 가지면 0에 가까원진다. \n",
        "- S자 형태로 그려지는 이 함수의 속성은 0 또는 1, 두 개의 값 중 하나를 고를 떄 유용하다.\n",
        "- p48 그림참고"
      ]
    },
    {
      "cell_type": "markdown",
      "metadata": {
        "id": "fcbdpYEGu0No"
      },
      "source": [
        "## 7 로그와 로그 함수\n",
        "- 로그 함수와 지수 함수는 역함수의 관계다.\n",
        "- 역함수는 x와 y를 서로 바꾸어 가지는 함수다.\n"
      ]
    },
    {
      "cell_type": "markdown",
      "metadata": {
        "id": "4shzkWbn1Qxk"
      },
      "source": [
        "$$a^{x}= y \\rightarrow  y = log_{a}x$$"
      ]
    },
    {
      "cell_type": "markdown",
      "metadata": {
        "id": "iwnjo8X31QDC"
      },
      "source": [
        "\n",
        "- p50~p51 그림참고"
      ]
    }
  ]
}