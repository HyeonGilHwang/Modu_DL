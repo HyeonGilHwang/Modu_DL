{
  "nbformat": 4,
  "nbformat_minor": 0,
  "metadata": {
    "colab": {
      "name": "둘째마당 딥러닝의 동작 원리.ipynb",
      "provenance": [],
      "collapsed_sections": [],
      "toc_visible": true,
      "authorship_tag": "ABX9TyPMECUFk3Sg71pWt1PvSQ0k",
      "include_colab_link": true
    },
    "kernelspec": {
      "name": "python3",
      "display_name": "Python 3"
    },
    "language_info": {
      "name": "python"
    }
  },
  "cells": [
    {
      "cell_type": "markdown",
      "metadata": {
        "id": "view-in-github",
        "colab_type": "text"
      },
      "source": [
        "<a href=\"https://colab.research.google.com/github/HyeonGilHwang/Modu_DL/blob/main/%EB%91%98%EC%A7%B8%EB%A7%88%EB%8B%B9_%EB%94%A5%EB%9F%AC%EB%8B%9D%EC%9D%98_%EB%8F%99%EC%9E%91_%EC%9B%90%EB%A6%AC.ipynb\" target=\"_parent\"><img src=\"https://colab.research.google.com/assets/colab-badge.svg\" alt=\"Open In Colab\"/></a>"
      ]
    },
    {
      "cell_type": "markdown",
      "metadata": {
        "id": "ebekMFFLJIUg"
      },
      "source": [
        "# 3장 가장 훌륭한 예측선 긋기: 선형 회귀"
      ]
    },
    {
      "cell_type": "markdown",
      "metadata": {
        "id": "CT-9ZfEpJZJ_"
      },
      "source": [
        "## 1 선형 회귀의 정의\n",
        "- 독립적으로 변할 수 있는 값 x를 독립 변수라고 한다.\n",
        "- 독립 변수에 따라 종속적으로 변하는 y를 종속 변수라고 한다.\n",
        "- 선형 회귀란 독립 변수 x를 사용해 종속 변수 y의 움직임을 예측하고 설명하는 작업을 말한다.\n",
        "- 하나의 x값만으로도 y값을 설명할 수 있을 때 이를 단순 선형 회귀(simple linear regression)라고 한다.\n",
        "- x값이 여러 개 필요할 때는 다중 선형 회귀(multiple linear regression)라 한다."
      ]
    },
    {
      "cell_type": "markdown",
      "metadata": {
        "id": "AcMB-yWhKEB_"
      },
      "source": [
        "## 2 가장 훌륭한 예측선이란?\n",
        "- 선형 회귀를 공부하는 과정은 점들의 특징을 가장 잘 나타내는 선을 그리는 과정이다."
      ]
    },
    {
      "cell_type": "markdown",
      "metadata": {
        "id": "b949z431KUiO"
      },
      "source": [
        "$$y = ax +b$$"
      ]
    },
    {
      "cell_type": "markdown",
      "metadata": {
        "id": "5rVnbXANKXWt"
      },
      "source": [
        "- 여기서 x값은 독립 변수이고 y값은 종속 변수이다.\n",
        "- 직선을 훌륭하게 그으려면 기울기 a값과 절편 b값을 정확이 예측해야한다.\n",
        "- 젛확한 a와 b의 값을 따라 움직이는 x값을 대입하면 예측인 y값을 구할 수 있다."
      ]
    },
    {
      "cell_type": "markdown",
      "metadata": {
        "id": "2y77k-gLK1i9"
      },
      "source": [
        "## 3 최소제곱법\n",
        "- 최소 제곱법은 주어진 x의 값이 하나일 때 적용이 가능하다. 여러 개의 x가 주어지는 경우 경사하강법을 이용한다.\n",
        "- 기울기 a를 구하는 방법은 다음과 같다."
      ]
    },
    {
      "cell_type": "markdown",
      "metadata": {
        "id": "yZH6Ir6QLN14"
      },
      "source": [
        "$$a = \\frac{\\sum(x-\\bar{x})(y-\\bar{y})}{\\sum(x-\\bar{x})^{2}}$$"
      ]
    },
    {
      "cell_type": "markdown",
      "metadata": {
        "id": "aHjkytZmLoR0"
      },
      "source": [
        "- 절편 b를 구하는 식은 다음과 같다."
      ]
    },
    {
      "cell_type": "markdown",
      "metadata": {
        "id": "NSTk7_5CL0jO"
      },
      "source": [
        "$$b=\\bar{y} - a\\bar{x}$$"
      ]
    },
    {
      "cell_type": "markdown",
      "metadata": {
        "id": "dE2_FCeLMEWy"
      },
      "source": [
        "## 4 코딩으로 확인하는 최소 제곱"
      ]
    },
    {
      "cell_type": "code",
      "metadata": {
        "id": "oZMZoWmhJDzl"
      },
      "source": [
        "import numpy as np\n",
        "x = [2, 4, 6, 8]\n",
        "y = [81, 93, 91, 97]"
      ],
      "execution_count": null,
      "outputs": []
    },
    {
      "cell_type": "code",
      "metadata": {
        "id": "LknKFh_pMR9f"
      },
      "source": [
        "mx = np.mean(x)\n",
        "my = np.mean(y)"
      ],
      "execution_count": null,
      "outputs": []
    },
    {
      "cell_type": "code",
      "metadata": {
        "id": "hL10LmEkMW1z"
      },
      "source": [
        "# 기울기 a의 분모\n",
        "divisor = sum([(i-mx)**2 for i in x])"
      ],
      "execution_count": null,
      "outputs": []
    },
    {
      "cell_type": "code",
      "metadata": {
        "id": "eI263wcOMqSE"
      },
      "source": [
        "# 기울기 a의 분자\n",
        "def top(x, mx, y, my):\n",
        "  d = 0 \n",
        "  for i in range(len(x)):\n",
        "    d += (x[i]-mx)*(y[i]-my)\n",
        "  return d\n",
        "\n",
        "divided = top(x, mx, y, my)"
      ],
      "execution_count": null,
      "outputs": []
    },
    {
      "cell_type": "code",
      "metadata": {
        "id": "32BgMU92M9PD"
      },
      "source": [
        "a = divided / divisor"
      ],
      "execution_count": null,
      "outputs": []
    },
    {
      "cell_type": "code",
      "metadata": {
        "id": "OX-WdDiyNKPz"
      },
      "source": [
        "b = my - (mx * a)"
      ],
      "execution_count": null,
      "outputs": []
    },
    {
      "cell_type": "code",
      "metadata": {
        "colab": {
          "base_uri": "https://localhost:8080/"
        },
        "id": "gdKeqaWgNNiz",
        "outputId": "ea6469f5-bba6-4238-b4d0-63a95b8fce04"
      },
      "source": [
        "print(\"기울기 a =\", a)\n",
        "print(\"y 절편 b =\", b)"
      ],
      "execution_count": null,
      "outputs": [
        {
          "output_type": "stream",
          "text": [
            "기울기 a = 2.3\n",
            "y 절편 b = 79.0\n"
          ],
          "name": "stdout"
        }
      ]
    },
    {
      "cell_type": "markdown",
      "metadata": {
        "id": "JfBVUdBsNfn0"
      },
      "source": [
        "## 5 평균 제곱 오차\n",
        "- 선이 얼마나 잘 그려졌는지를 평가하는 오차 평가 알고리즘이 필요하다.\n",
        "- 오차를 평가하는 방법 중 가장 많이 사용되는 평균 제곱 오차(mean square error, MSE)를 배운다."
      ]
    },
    {
      "cell_type": "markdown",
      "metadata": {
        "id": "TSFZFNxKN_KV"
      },
      "source": [
        "## 6 잘못 그은 선 바로잡기\n",
        "- 오차를 단순히 더해 버리면 합이 0이 될수도 있기 때문에 부호를 없애햐 한다.\n",
        "- 따라서, 오차의 합을 구할 때는 각 오차의 값을 제곱한다."
      ]
    },
    {
      "cell_type": "markdown",
      "metadata": {
        "id": "SWBvANCvOj96"
      },
      "source": [
        "$$\\sum_{i}^{n}(y_{i}-\\hat{y_{i}})^{2}$$"
      ]
    },
    {
      "cell_type": "markdown",
      "metadata": {
        "id": "-PA8En6JO6L6"
      },
      "source": [
        "- 평균 제곱 오차(Mean Squared Error, MSE)는 오차의 합에서 n으로 나눈다."
      ]
    },
    {
      "cell_type": "markdown",
      "metadata": {
        "id": "6b-dcaFFPIrm"
      },
      "source": [
        "$$\\frac{1}{n}\\sum(y_{i}-\\hat{y_{i}})^{2}$$"
      ]
    },
    {
      "cell_type": "markdown",
      "metadata": {
        "id": "p51rxvNuPXgi"
      },
      "source": [
        "- 따라서, 우리가 하는 작업은 '평균 제곱 오차'의 계산 결과가 가장 작은 선을 찾는 작업이라고 설명할 수 있다.\n",
        "- 선형 회귀란 임의의 직선을 그어 이에 대한 평균 제곱 오차를 구하고, 이 값을 가장 작게 만들어 주는 a와 b를 찾아가는 작업이다."
      ]
    },
    {
      "cell_type": "markdown",
      "metadata": {
        "id": "7uz3C3xtPn3W"
      },
      "source": [
        "## 7 코딩으로 확인하는 평균 제곱 오차"
      ]
    },
    {
      "cell_type": "code",
      "metadata": {
        "id": "9bzPsUd5NYJT"
      },
      "source": [
        "# 임의로 정한 기울기 3, 절편을 76이라고 하자.\n",
        "fake_a_b = [3, 76]"
      ],
      "execution_count": null,
      "outputs": []
    },
    {
      "cell_type": "code",
      "metadata": {
        "id": "5F4NKeRpP-eP"
      },
      "source": [
        "data=[[2, 81], [4, 93], [6, 91], [8, 97]]\n",
        "x = [i[0] for i in data]\n",
        "y = [i[1] for i in data]"
      ],
      "execution_count": null,
      "outputs": []
    },
    {
      "cell_type": "code",
      "metadata": {
        "id": "EmXSotdjQNd7"
      },
      "source": [
        "# 직선\n",
        "def predict(x):\n",
        "  return fake_a_b[0]*x + fake_a_b[1]"
      ],
      "execution_count": null,
      "outputs": []
    },
    {
      "cell_type": "code",
      "metadata": {
        "id": "jIADl8G7QbTr"
      },
      "source": [
        "# 평균 제곱 오차\n",
        "def mse(y, y_hat):\n",
        "  return ((y-y_hat)**2).mean()"
      ],
      "execution_count": null,
      "outputs": []
    },
    {
      "cell_type": "code",
      "metadata": {
        "id": "X_p5-Jz4Qlgs"
      },
      "source": [
        "\n",
        "def mse_val(y, predict_result):\n",
        "  return mse(np.array(y), np.array(predict_result))"
      ],
      "execution_count": null,
      "outputs": []
    },
    {
      "cell_type": "code",
      "metadata": {
        "colab": {
          "base_uri": "https://localhost:8080/"
        },
        "id": "mFVhtbsbQ8rj",
        "outputId": "f6d688ac-93a0-4c42-9c30-816d9e20f26e"
      },
      "source": [
        "predict_result = []\n",
        "\n",
        "for i in range(len(x)):\n",
        "  predict_result.append(predict(x[i]))\n",
        "  print(\"공부시간=%.f, 실제 점수=%.f, 예측 점수=%.f\" %(x[i], y[i], predict(x[i])))"
      ],
      "execution_count": null,
      "outputs": [
        {
          "output_type": "stream",
          "text": [
            "공부시간=2, 실제 점수=81, 예측 점수=82\n",
            "공부시간=4, 실제 점수=93, 예측 점수=88\n",
            "공부시간=6, 실제 점수=91, 예측 점수=94\n",
            "공부시간=8, 실제 점수=97, 예측 점수=100\n"
          ],
          "name": "stdout"
        }
      ]
    },
    {
      "cell_type": "code",
      "metadata": {
        "colab": {
          "base_uri": "https://localhost:8080/"
        },
        "id": "qjIE8UVjRGBr",
        "outputId": "728165d9-3d29-4a31-a521-a6b44c470481"
      },
      "source": [
        "# 최종 mse \n",
        "# a, b를 적절히 조절하면서 오차가 최소화되는 a, b를 구해야한다.\n",
        "# x가 하나일 경우에는 최소제곱법으로 구한 a, b가 최소의 mse를 가진다.\n",
        "print(\"mse 최종값: \"+str(mse_val(predict_result, y)))"
      ],
      "execution_count": null,
      "outputs": [
        {
          "output_type": "stream",
          "text": [
            "mse 최종값: 11.0\n"
          ],
          "name": "stdout"
        }
      ]
    },
    {
      "cell_type": "markdown",
      "metadata": {
        "id": "vhBQ3Q-fTNtC"
      },
      "source": [
        "# 4장 오차 수정하기: 경사 하강법\n",
        "- 오차를 비교하여 가장 작은 방향으로 이동시키는 방벙이 있다.\n",
        "- 바로 미분 기울기를 이용하는 경사 하강법(gradient descent)이다."
      ]
    },
    {
      "cell_type": "markdown",
      "metadata": {
        "id": "bRmUl3GuVLaE"
      },
      "source": [
        "## 1 경사 하강법의 개요\n",
        "- $a_{1}$에서 미분을 구한다.\n",
        "- 구해진 기울기의 반대 방향(기울기가 +면 음의 방향, -면 양의 방향)으로 얼마간 이동시킨 $a_{2}$를 구한다.\n",
        "- 위에서 구한 미분 값이 0이 아니라면 위 과정을 반복한다.\n",
        "- 경사 하강법은 이렇게 반복적으로 기울기 a를 변화시켜서 m의 값을 찾아내는 방법을 말한다.\n",
        "- p76 그림 4-3 참고"
      ]
    },
    {
      "cell_type": "markdown",
      "metadata": {
        "id": "ngH-kWDwV8Xd"
      },
      "source": [
        "## 2 학습률\n",
        "- 기울기의 부호를 바꿔 이동실킬 때 적절한 거리를 찾지 못해 너무 멀리 이동시키면 a 값이 한 점으로 모이지 않고 위로 치솟아 버린다.\n",
        "- 어느 만큼 이동시킬지 신중히 결정해야 하는데, 이때 이동 거리를 정해주는 것을 학습률이라고 한다.\n",
        "- p76 그림 4-4 참고"
      ]
    },
    {
      "cell_type": "markdown",
      "metadata": {
        "id": "tqn5GBGoWVpp"
      },
      "source": [
        "## 3 코딩으로 확인하는 경사 하강법\n",
        "- 우리가 궁금한 것은 a와 b라는 것을 주의하고 식 전체를 미분하는 것이 아니라 필요한 값을 중심으로 미분해야 한다."
      ]
    },
    {
      "cell_type": "markdown",
      "metadata": {
        "id": "rUILC_RuW5OE"
      },
      "source": [
        "$$MSE(a, b)=\\frac{1}{n}\\sum(y_{i}-(ax_{i}+b))^{2}$$"
      ]
    },
    {
      "cell_type": "markdown",
      "metadata": {
        "id": "IjVYYHbnXZGN"
      },
      "source": [
        "$$\\frac{\\partial}{\\partial a}=\\frac{2}{n}\\sum(ax_{i}+b - y_{i})x_{i}$$"
      ]
    },
    {
      "cell_type": "markdown",
      "metadata": {
        "id": "KAeRGml-XutB"
      },
      "source": [
        "$$\\frac{\\partial}{\\partial b}=\\frac{2}{n}\\sum(ax_{i}+b - y_{i})$$"
      ]
    },
    {
      "cell_type": "code",
      "metadata": {
        "id": "1NWYXkW7Y2sF"
      },
      "source": [
        "# 브로드캐스팅 연산을 위해 리스트형식을 array로 바꿈\n",
        "x_data = np.array(x)\n",
        "y_data = np.array(y)"
      ],
      "execution_count": null,
      "outputs": []
    },
    {
      "cell_type": "code",
      "metadata": {
        "id": "Zn9IwktKSfS7"
      },
      "source": [
        "y_pred = a*x_data + b # 오차함수 부분\n",
        "error = y_data - y_pred # 오차\n",
        "\n",
        "# 평균 제곱 오차를 a로 미분\n",
        "# -를 위식에서 끄집어냄\n",
        "a_diff = -(2 / len(x_data)) *sum(x_data*(error))\n",
        "# 평균 제곱 오차를 b로 미분\n",
        "b_diff = -(2 / len(x_data)) * sum(error)"
      ],
      "execution_count": null,
      "outputs": []
    },
    {
      "cell_type": "code",
      "metadata": {
        "id": "s-T4I2FSYsqh"
      },
      "source": [
        "# lr 학습률\n",
        "lr = 0.03 \n",
        "\n",
        "a = a - lr * a_diff\n",
        "b = b - lr * b_diff"
      ],
      "execution_count": null,
      "outputs": []
    },
    {
      "cell_type": "code",
      "metadata": {
        "id": "RAxtApnnY9Jk"
      },
      "source": [
        "# 몇 번 반복될지 설정\n",
        "epochs = 2001"
      ],
      "execution_count": null,
      "outputs": []
    },
    {
      "cell_type": "code",
      "metadata": {
        "colab": {
          "base_uri": "https://localhost:8080/"
        },
        "id": "mCJF78BiZg8v",
        "outputId": "fdd7c823-0fbd-4ab6-b9d0-b9afcf849cfc"
      },
      "source": [
        "# 경사 하강법 시작\n",
        "\n",
        "# 위에서 a, b를 구해서 초기화 시켜줌\n",
        "a = 0\n",
        "b = 0\n",
        "\n",
        "for i in range(epochs):\n",
        "\n",
        "  y_pred = a*x_data + b\n",
        "  error = y_data - y_pred\n",
        "\n",
        "  a_diff = -(2 / len(x_data)) *sum(x_data*(error))\n",
        "  b_diff = -(2 / len(x_data)) * sum(error)\n",
        "\n",
        "  a = a - lr * a_diff\n",
        "  b = b - lr * b_diff\n",
        "\n",
        "  if i % 100 == 0:\n",
        "    print(\"epch=%.f, 기울기 = %.04f, 절편 = %.04f\" % (i, a, b))"
      ],
      "execution_count": null,
      "outputs": [
        {
          "output_type": "stream",
          "text": [
            "epch=0, 기울기 = 27.8400, 절편 = 5.4300\n",
            "epch=100, 기울기 = 7.0739, 절편 = 50.5117\n",
            "epch=200, 기울기 = 4.0960, 절편 = 68.2822\n",
            "epch=300, 기울기 = 2.9757, 절편 = 74.9678\n",
            "epch=400, 기울기 = 2.5542, 절편 = 77.4830\n",
            "epch=500, 기울기 = 2.3956, 절편 = 78.4293\n",
            "epch=600, 기울기 = 2.3360, 절편 = 78.7853\n",
            "epch=700, 기울기 = 2.3135, 절편 = 78.9192\n",
            "epch=800, 기울기 = 2.3051, 절편 = 78.9696\n",
            "epch=900, 기울기 = 2.3019, 절편 = 78.9886\n",
            "epch=1000, 기울기 = 2.3007, 절편 = 78.9957\n",
            "epch=1100, 기울기 = 2.3003, 절편 = 78.9984\n",
            "epch=1200, 기울기 = 2.3001, 절편 = 78.9994\n",
            "epch=1300, 기울기 = 2.3000, 절편 = 78.9998\n",
            "epch=1400, 기울기 = 2.3000, 절편 = 78.9999\n",
            "epch=1500, 기울기 = 2.3000, 절편 = 79.0000\n",
            "epch=1600, 기울기 = 2.3000, 절편 = 79.0000\n",
            "epch=1700, 기울기 = 2.3000, 절편 = 79.0000\n",
            "epch=1800, 기울기 = 2.3000, 절편 = 79.0000\n",
            "epch=1900, 기울기 = 2.3000, 절편 = 79.0000\n",
            "epch=2000, 기울기 = 2.3000, 절편 = 79.0000\n"
          ],
          "name": "stdout"
        }
      ]
    },
    {
      "cell_type": "code",
      "metadata": {
        "id": "ZzdWw7GCa6bd"
      },
      "source": [
        "import matplotlib.pyplot as plt"
      ],
      "execution_count": null,
      "outputs": []
    },
    {
      "cell_type": "code",
      "metadata": {
        "colab": {
          "base_uri": "https://localhost:8080/",
          "height": 265
        },
        "id": "FtOEYNLPZ-cK",
        "outputId": "dc3fb077-e609-4c34-bc69-bf0ca6c2662e"
      },
      "source": [
        "# 시각화\n",
        "y_pred = a * x_data + b\n",
        "plt.scatter(x, y)\n",
        "plt.plot([min(x_data), max(x_data)], [min(y_pred), max(y_pred)])\n",
        "plt.show()"
      ],
      "execution_count": null,
      "outputs": [
        {
          "output_type": "display_data",
          "data": {
            "image/png": "[encoded data removed]",
            "text/plain": [
              "<Figure size 432x288 with 1 Axes>"
            ]
          },
          "metadata": {
            "tags": [],
            "needs_background": "light"
          }
        }
      ]
    },
    {
      "cell_type": "markdown",
      "metadata": {
        "id": "m1fY0co7bF5F"
      },
      "source": [
        "## 4 다중 선형 회귀란\n",
        "- 더 정확한 예측을 하려면 추가 정보를 입력해야 하며, 정보를 추가해 새로운 예측 값을 구하려면 변수의 개수를 늘려 다중 선형 회귀를 만들어야 한다."
      ]
    },
    {
      "cell_type": "markdown",
      "metadata": {
        "id": "F18frhgJbU3d"
      },
      "source": [
        "$$y = a_{1}x_{1} +a_{2}x_{2} +b$$"
      ]
    },
    {
      "cell_type": "markdown",
      "metadata": {
        "id": "5ANX2AJWbdPF"
      },
      "source": [
        "## 5 코딩으로 확인하는 다중 선형 회귀"
      ]
    },
    {
      "cell_type": "code",
      "metadata": {
        "id": "G33WBl-Ca45s"
      },
      "source": [
        "data = [[2, 0, 81], [4, 4, 93], [6, 2, 91], [8, 3, 97]]\n",
        "x1 = [i[0] for  i in data]\n",
        "x2 = [i[1] for i in data]\n",
        "y = [i[2] for i in data]"
      ],
      "execution_count": null,
      "outputs": []
    },
    {
      "cell_type": "code",
      "metadata": {
        "colab": {
          "base_uri": "https://localhost:8080/",
          "height": 248
        },
        "id": "ZqS1pvfQbxVK",
        "outputId": "3a93d172-5484-4194-9424-9b1da015d5cc"
      },
      "source": [
        "# 위 데이터를 시각화해보자\n",
        "import matplotlib.pyplot as plt\n",
        "from mpl_toolkits import mplot3d\n",
        "\n",
        "ax = plt.axes(projection = '3d')\n",
        "ax.set_xlabel('study_hours')\n",
        "ax.set_ylabel('private_class')\n",
        "ax.set_zlabel('Score')\n",
        "ax.scatter(x1, x2, y)\n",
        "plt.show()"
      ],
      "execution_count": null,
      "outputs": [
        {
          "output_type": "display_data",
          "data": {
            "image/png": "[encoded data removed]",
            "text/plain": [
              "<Figure size 432x288 with 1 Axes>"
            ]
          },
          "metadata": {
            "tags": [],
            "needs_background": "light"
          }
        }
      ]
    },
    {
      "cell_type": "code",
      "metadata": {
        "id": "tpaq9kQDcrxy"
      },
      "source": [
        "x1_data = np.array(x1)\n",
        "x2_data = np.array(x2)\n",
        "y_data = np.array(y)"
      ],
      "execution_count": null,
      "outputs": []
    },
    {
      "cell_type": "code",
      "metadata": {
        "id": "CRmlJ9u3cL8m"
      },
      "source": [
        "a1 = 0\n",
        "a2 = 0\n",
        "b = 0"
      ],
      "execution_count": null,
      "outputs": []
    },
    {
      "cell_type": "code",
      "metadata": {
        "colab": {
          "base_uri": "https://localhost:8080/"
        },
        "id": "alUtx6UkdrLi",
        "outputId": "8bfefdfb-01d6-4b47-c383-65fa91a81739"
      },
      "source": [
        "# 학습률 \n",
        "lr = 0.02\n",
        "\n",
        "# 반복수\n",
        "epochs = 2401\n",
        "\n",
        "# 경사하강법 시작\n",
        "for i in range(epochs):\n",
        "  y_pred = a1 * x1_data + a2 * x2_data +b # y를 구하는 식\n",
        "  error = y_data - y_pred # 오차를 구하는 식\n",
        "\n",
        "  a1_diff = -(2/len(x1_data)) * sum(x1_data*(error)) # 오차 함수를 a1으로 미분\n",
        "  a2_diff = -(2/len(x2_data)) * sum(x2_data*(error)) # 오차 함수를 a2으로 미분\n",
        "  b_diff = -(2/len(x1_data)) * sum(y_data - y_pred) # 오차 함수를 b로 미분\n",
        "\n",
        "  a1 = a1 - lr*a1_diff\n",
        "  a2 = a2 - lr*a2_diff\n",
        "  b = b - lr*b_diff\n",
        "\n",
        "  if i % 100 == 0:\n",
        "    print(\"epoch=%.f, 기울기1=%.04f, 기울기2=%.04f, 절편=%.04f\" %(i, a1, a2, b))"
      ],
      "execution_count": null,
      "outputs": [
        {
          "output_type": "stream",
          "text": [
            "epoch=0, 기울기1=18.5600, 기울기2=8.4500, 절편=3.6200\n",
            "epoch=100, 기울기1=7.2994, 기울기2=4.2867, 절편=38.0427\n",
            "epoch=200, 기울기1=4.5683, 기울기2=3.3451, 절편=56.7901\n",
            "epoch=300, 기울기1=3.1235, 기울기2=2.8463, 절편=66.7100\n",
            "epoch=400, 기울기1=2.3591, 기울기2=2.5823, 절편=71.9589\n",
            "epoch=500, 기울기1=1.9546, 기울기2=2.4427, 절편=74.7362\n",
            "epoch=600, 기울기1=1.7405, 기울기2=2.3688, 절편=76.2058\n",
            "epoch=700, 기울기1=1.6273, 기울기2=2.3297, 절편=76.9833\n",
            "epoch=800, 기울기1=1.5673, 기울기2=2.3090, 절편=77.3948\n",
            "epoch=900, 기울기1=1.5356, 기울기2=2.2980, 절편=77.6125\n",
            "epoch=1000, 기울기1=1.5189, 기울기2=2.2922, 절편=77.7277\n",
            "epoch=1100, 기울기1=1.5100, 기울기2=2.2892, 절편=77.7886\n",
            "epoch=1200, 기울기1=1.5053, 기울기2=2.2875, 절편=77.8209\n",
            "epoch=1300, 기울기1=1.5028, 기울기2=2.2867, 절편=77.8380\n",
            "epoch=1400, 기울기1=1.5015, 기울기2=2.2862, 절편=77.8470\n",
            "epoch=1500, 기울기1=1.5008, 기울기2=2.2860, 절편=77.8518\n",
            "epoch=1600, 기울기1=1.5004, 기울기2=2.2859, 절편=77.8543\n",
            "epoch=1700, 기울기1=1.5002, 기울기2=2.2858, 절편=77.8556\n",
            "epoch=1800, 기울기1=1.5001, 기울기2=2.2858, 절편=77.8563\n",
            "epoch=1900, 기울기1=1.5001, 기울기2=2.2857, 절편=77.8567\n",
            "epoch=2000, 기울기1=1.5000, 기울기2=2.2857, 절편=77.8569\n",
            "epoch=2100, 기울기1=1.5000, 기울기2=2.2857, 절편=77.8570\n",
            "epoch=2200, 기울기1=1.5000, 기울기2=2.2857, 절편=77.8571\n",
            "epoch=2300, 기울기1=1.5000, 기울기2=2.2857, 절편=77.8571\n",
            "epoch=2400, 기울기1=1.5000, 기울기2=2.2857, 절편=77.8571\n"
          ],
          "name": "stdout"
        }
      ]
    },
    {
      "cell_type": "code",
      "metadata": {
        "colab": {
          "base_uri": "https://localhost:8080/",
          "height": 248
        },
        "id": "bvwBRYrZfxwv",
        "outputId": "48ab1925-070c-483d-e006-eae57ac32d95"
      },
      "source": [
        "#참고 자료, 다중 선형회귀 '예측 평면' 3D로 보기\n",
        "import pandas as pd\n",
        "import statsmodels.api as statm\n",
        "import statsmodels.formula.api as statfa\n",
        "#from matplotlib.pyplot import figure\n",
        "\n",
        "X = [i[0:2] for i in data]\n",
        "y = [i[2] for i in data]\n",
        "\n",
        "X_1=statm.add_constant(X)\n",
        "results=statm.OLS(y,X_1).fit()\n",
        "\n",
        "hour_class=pd.DataFrame(X,columns=['study_hours','private_class'])\n",
        "hour_class['Score']=pd.Series(y)\n",
        "\n",
        "model = statfa.ols(formula='Score ~ study_hours + private_class', data=hour_class)\n",
        "\n",
        "results_formula = model.fit()\n",
        "\n",
        "a, b = np.meshgrid(np.linspace(hour_class.study_hours.min(),hour_class.study_hours.max(),100), # linspace x,y를 100구간으로 나눠줘\n",
        "                   np.linspace(hour_class.private_class.min(),hour_class.private_class.max(),100))\n",
        "\n",
        "X_ax = pd.DataFrame({'study_hours': a.ravel(), 'private_class': b.ravel()})\n",
        "fittedY=results_formula.predict(exog=X_ax)\n",
        "\n",
        "fig = plt.figure()\n",
        "graph = fig.add_subplot(111, projection='3d')\n",
        "\n",
        "graph.scatter(hour_class['study_hours'],hour_class['private_class'],hour_class['Score'],\n",
        "              c='blue',marker='o', alpha=1)\n",
        "graph.plot_surface(a,b,fittedY.values.reshape(a.shape),\n",
        "                   rstride=1, cstride=1, color='none', alpha=0.4)\n",
        "graph.set_xlabel('study hours')\n",
        "graph.set_ylabel('private class')\n",
        "graph.set_zlabel('Score')\n",
        "graph.dist = 11\n",
        "\n",
        "plt.show()"
      ],
      "execution_count": null,
      "outputs": [
        {
          "output_type": "display_data",
          "data": {
            "image/png": "[encoded data removed]",
            "text/plain": [
              "<Figure size 432x288 with 1 Axes>"
            ]
          },
          "metadata": {
            "tags": [],
            "needs_background": "light"
          }
        }
      ]
    },
    {
      "cell_type": "markdown",
      "metadata": {
        "id": "gzSNrtyZi-Jn"
      },
      "source": [
        "# 5장 참 거짓 판단 장치: 로지스틱 회귀\n",
        "- 참과 거짓 중에 하나를 내놓는 과정은 로지스틱 회귀(logistic regression)의 원리를 거쳐 이루어진다."
      ]
    },
    {
      "cell_type": "markdown",
      "metadata": {
        "id": "axxhG8gAjVaO"
      },
      "source": [
        "## 1 로지스틱 회귀의 정의\n",
        "- 로지스틱 회귀는 선형 회귀와 마찬가지로 적절한 선을 그려가는 과정이다. 다만 직선이 아니라, 참(1)과 거짓(0) 사이를 구분하는 S자 형태의 선을 그어 주는 작업이다.\n",
        "- p90 그림5-2참고"
      ]
    },
    {
      "cell_type": "markdown",
      "metadata": {
        "id": "ktf07a1ajuaK"
      },
      "source": [
        "## 2 시그모이드 함수\n",
        "- 시그모이드 함수를 이용해 로지스틱 회귀를 풀어나가는 공식은 다음과 같다.\n",
        "\n"
      ]
    },
    {
      "cell_type": "markdown",
      "metadata": {
        "id": "0YIWoBKzkCrD"
      },
      "source": [
        "$$y=\\frac{1}{1+e^{-(ax+b)}} $$\n"
      ]
    },
    {
      "cell_type": "markdown",
      "metadata": {
        "id": "soprnTswkDjz"
      },
      "source": [
        "- a는 그래프의 경사를 결정하고 a 값이 커지면 경사가 커지고 a 값이 작아지면 경사가 작아진다.\n",
        "- b는 그래프의 좌우 이동을 의미한다.\n",
        "- p90 그림5-3, p91 그림5-4 참고"
      ]
    },
    {
      "cell_type": "markdown",
      "metadata": {
        "id": "EHKRG6evkf8e"
      },
      "source": [
        "## 3 오차 공식\n",
        "- 시그모이드 함수의 특징은 y 값이 0과 1사이라는 것이다.\n",
        "- 따라서 실제 값이 1일 때 예측 값이 0에 가까워지면 오차는 커진다. 반대로, 실제 값이 0일 때 예측 값이 1에 가까워지는 경우도 오차가 커진다.\n",
        "- 이를 공식으로 만들 수 있게 해 주는 함수가 로그 함수다."
      ]
    },
    {
      "cell_type": "markdown",
      "metadata": {
        "id": "A69Z7WZllRL_"
      },
      "source": [
        "## 4 로그 함수"
      ]
    },
    {
      "cell_type": "markdown",
      "metadata": {
        "id": "YgmopZxXlcEd"
      },
      "source": [
        "$$-(y_{data} logh + (1-y_{data})log(1-h))$$"
      ]
    },
    {
      "cell_type": "markdown",
      "metadata": {
        "id": "0OAWxMc6mIHY"
      },
      "source": [
        "- 앞 부분을 A, 뒷 부분을 B라고 할때, 실제값 $y_{data}$라 할 때, 이 값이 1이면 B부분이 없어진다. 반대로 0이면 A부분이 없어진다.\n",
        "- p93~94 참고"
      ]
    },
    {
      "cell_type": "markdown",
      "metadata": {
        "id": "is8gBaBSmfgu"
      },
      "source": [
        "## 5 코딩으로 확인하는 로지스틱 회귀"
      ]
    },
    {
      "cell_type": "code",
      "metadata": {
        "id": "YMjyxTaBommh"
      },
      "source": [
        "import numpy as np"
      ],
      "execution_count": 8,
      "outputs": []
    },
    {
      "cell_type": "code",
      "metadata": {
        "id": "oNXFi5GljFy_"
      },
      "source": [
        "data = [[2, 0], [4, 0], [6, 0], [8, 1], [10, 1], [12, 1], [14, 1]]\n",
        "\n",
        "x_data = [i[0] for i in data] # 공부한 시간 데이터\n",
        "y_data = [i[1] for i in data] # 합격 여부"
      ],
      "execution_count": 23,
      "outputs": []
    },
    {
      "cell_type": "code",
      "metadata": {
        "colab": {
          "base_uri": "https://localhost:8080/",
          "height": 283
        },
        "id": "PASVz-rzm2LE",
        "outputId": "73b2d98d-a919-4047-ed19-21f004d3ab83"
      },
      "source": [
        "import matplotlib.pyplot as plt\n",
        "\n",
        "plt.scatter(x_data, y_data)\n",
        "plt.xlim(0,15)\n",
        "plt.ylim(-.1, 1.1)\n",
        "# 공부 시간에 따른 합격 여부를 그래프로 나타낸 모습"
      ],
      "execution_count": 24,
      "outputs": [
        {
          "output_type": "execute_result",
          "data": {
            "text/plain": [
              "(-0.1, 1.1)"
            ]
          },
          "metadata": {
            "tags": []
          },
          "execution_count": 24
        },
        {
          "output_type": "display_data",
          "data": {
            "image/png": "[encoded data removed]",
            "text/plain": [
              "<Figure size 432x288 with 1 Axes>"
            ]
          },
          "metadata": {
            "tags": [],
            "needs_background": "light"
          }
        }
      ]
    },
    {
      "cell_type": "code",
      "metadata": {
        "id": "YdyiSrAbnA1Q"
      },
      "source": [
        "a = 0\n",
        "b = 0 \n",
        "\n",
        "lr = 0.05 # 학습률"
      ],
      "execution_count": 26,
      "outputs": []
    },
    {
      "cell_type": "code",
      "metadata": {
        "id": "bl8oGxaUnQZq"
      },
      "source": [
        "def sigmoid(x):\n",
        "  return 1 / (1 + np.e ** (-x))"
      ],
      "execution_count": 27,
      "outputs": []
    },
    {
      "cell_type": "markdown",
      "metadata": {
        "id": "0y8PZ_1Nn3sL"
      },
      "source": [
        "- 로지스틱 회귀의 오차 함수는 다음과 같다."
      ]
    },
    {
      "cell_type": "markdown",
      "metadata": {
        "id": "5gfGRKZfnoC9"
      },
      "source": [
        "$$-\\frac{1}{n}\\sum (ylogh +(1-y)log(1-h))$$"
      ]
    },
    {
      "cell_type": "code",
      "metadata": {
        "colab": {
          "base_uri": "https://localhost:8080/",
          "height": 646
        },
        "id": "dDSnhkL_nW9f",
        "outputId": "89588dbe-1ad4-4a06-b917-f255db98c834"
      },
      "source": [
        "for i in range(2001):\n",
        "  for x_data, y_data in data:\n",
        "    # a에 관한 편미분\n",
        "    a_diff = x_data*(sigmoid(a*x_data +b)- y_data)\n",
        "    # b에 관한 편미분\n",
        "    b_diff = sigmoid(a*x_data + b) - y_data\n",
        "\n",
        "    a = a - lr *a_diff\n",
        "    b = b - lr *b_diff\n",
        "\n",
        "    if i % 1000 == 0:\n",
        "      print(\"epoch=%.f, 기울기 = %.04f, 절편 = %.04f\" % (i, a, b))\n",
        "\n",
        "x_data = [i[0] for i in data] # 공부한 시간 데이터\n",
        "y_data = [i[1] for i in data] # 합격 여부\n",
        "\n",
        "plt.scatter(x_data, y_data)\n",
        "plt.xlim(0, 15)\n",
        "plt.ylim(-.1, 1.1)\n",
        "x_range = (np.arange(0, 15, 0.1))\n",
        "plt.plot(np.arange(0, 15, 0.1), np.array([sigmoid(a*x +b) for x in x_range]))\n",
        "plt.show()"
      ],
      "execution_count": 28,
      "outputs": [
        {
          "output_type": "stream",
          "text": [
            "epoch=0, 기울기 = -0.0500, 절편 = -0.0250\n",
            "epoch=0, 기울기 = -0.1388, 절편 = -0.0472\n",
            "epoch=0, 기울기 = -0.2268, 절편 = -0.0619\n",
            "epoch=0, 기울기 = 0.1201, 절편 = -0.0185\n",
            "epoch=0, 기울기 = 0.2374, 절편 = -0.0068\n",
            "epoch=0, 기울기 = 0.2705, 절편 = -0.0040\n",
            "epoch=0, 기울기 = 0.2860, 절편 = -0.0029\n",
            "epoch=1000, 기울기 = 1.4978, 절편 = -9.9401\n",
            "epoch=1000, 기울기 = 1.4940, 절편 = -9.9411\n",
            "epoch=1000, 기울기 = 1.4120, 절편 = -9.9547\n",
            "epoch=1000, 기울기 = 1.4949, 절편 = -9.9444\n",
            "epoch=1000, 기울기 = 1.4982, 절편 = -9.9440\n",
            "epoch=1000, 기울기 = 1.4984, 절편 = -9.9440\n",
            "epoch=1000, 기울기 = 1.4985, 절편 = -9.9440\n",
            "epoch=2000, 기울기 = 1.9065, 절편 = -12.9489\n",
            "epoch=2000, 기울기 = 1.9055, 절편 = -12.9491\n",
            "epoch=2000, 기울기 = 1.8515, 절편 = -12.9581\n",
            "epoch=2000, 기울기 = 1.9057, 절편 = -12.9514\n",
            "epoch=2000, 기울기 = 1.9068, 절편 = -12.9513\n",
            "epoch=2000, 기울기 = 1.9068, 절편 = -12.9513\n",
            "epoch=2000, 기울기 = 1.9068, 절편 = -12.9513\n"
          ],
          "name": "stdout"
        },
        {
          "output_type": "display_data",
          "data": {
            "image/png": "[encoded data removed]",
            "text/plain": [
              "<Figure size 432x288 with 1 Axes>"
            ]
          },
          "metadata": {
            "tags": [],
            "needs_background": "light"
          }
        }
      ]
    },
    {
      "cell_type": "markdown",
      "metadata": {
        "id": "K2gCA-_Zr4sM"
      },
      "source": [
        "- 만약 여기에 입력 값이 추가되어 세 개 이상의 입력 값을 다룬다면 소프트맥스(softmax)라는 함수를 쓴다."
      ]
    }
  ]
}